{
 "cells": [
  {
   "cell_type": "markdown",
   "metadata": {},
   "source": [
    "## Download script for OMI data\n",
    "\n",
    "Example of how to download monthly summaries of asc.gz files from temis.nl server"
   ]
  },
  {
   "cell_type": "code",
   "execution_count": null,
   "metadata": {
    "collapsed": false
   },
   "outputs": [],
   "source": [
    "import wget\n",
    "import pandas as pd\n",
    "import requests\n",
    "from tqdm import *"
   ]
  },
  {
   "cell_type": "code",
   "execution_count": null,
   "metadata": {
    "collapsed": false
   },
   "outputs": [],
   "source": [
    "def make_url(year, month):\n",
    "    \"\"\"\n",
    "    Url needs to have a format of:\n",
    "    http://temis.nl/airpollution/no2col/data/omi/2006/06/no2_200606.asc.gz\n",
    "    \"\"\"\n",
    "    base = \"http://temis.nl/airpollution/no2col/data/omi/\"\n",
    "    file_start = \"no2_\"\n",
    "    file_end =\".asc.gz\"\n",
    "    return ''.join([base, year,'/', month, '/',\n",
    "                    file_start, year, month, file_end])\n",
    "\n",
    "def make_target(year, month):\n",
    "    \"\"\"Make a target folder/filename string\"\"\"\n",
    "    return ''.join([\"Data/\", year, month,\".asc.gz\"])\n",
    "\n",
    "def download_file(year, month):\n",
    "    \"\"\"Main downloader\"\"\"\n",
    "    if not os.path.isdir(\"Data\"):\n",
    "        os.makedirs(\"Data\")\n",
    "    url = make_url(year, month)\n",
    "    r = requests.get(url)\n",
    "    r.status_code\n",
    "    if r.status_code is 200:\n",
    "        wget.download(url, out=make_target(year, month))\n",
    "    else:\n",
    "        raise IOError(\"File not found\")"
   ]
  },
  {
   "cell_type": "code",
   "execution_count": null,
   "metadata": {
    "collapsed": false
   },
   "outputs": [],
   "source": [
    "# Example of downloading a single year/month file\n",
    "\n",
    "download_file('2006', '06')"
   ]
  },
  {
   "cell_type": "markdown",
   "metadata": {},
   "source": [
    "If there is no Data/ folder in the local folder, one will be made\n",
    "if the [year][month].asc.gz file doesnt exist on the server \n",
    "no download will be attempted, and instead an Eror will be raised.\n",
    "(This is so you can use a try: except: syntax to run a loop.)"
   ]
  },
  {
   "cell_type": "code",
   "execution_count": null,
   "metadata": {
    "collapsed": false
   },
   "outputs": [],
   "source": [
    "dates = pd.date_range(start='20041001',end='20161001',freq='M')"
   ]
  },
  {
   "cell_type": "code",
   "execution_count": null,
   "metadata": {
    "collapsed": false
   },
   "outputs": [],
   "source": [
    "missing = []\n",
    "for date in tqdm(dates):\n",
    "    month = \"{0:02d}\".format(date.month)\n",
    "    year = str(date.year)\n",
    "    try:\n",
    "        download_file(year, month)\n",
    "    except:\n",
    "        missing.append((year,month))"
   ]
  },
  {
   "cell_type": "code",
   "execution_count": null,
   "metadata": {
    "collapsed": false
   },
   "outputs": [],
   "source": [
    "missing"
   ]
  },
  {
   "cell_type": "code",
   "execution_count": null,
   "metadata": {
    "collapsed": true
   },
   "outputs": [],
   "source": []
  }
 ],
 "metadata": {
  "anaconda-cloud": {},
  "kernelspec": {
   "display_name": "Python [conda root]",
   "language": "python",
   "name": "conda-root-py"
  },
  "language_info": {
   "codemirror_mode": {
    "name": "ipython",
    "version": 3
   },
   "file_extension": ".py",
   "mimetype": "text/x-python",
   "name": "python",
   "nbconvert_exporter": "python",
   "pygments_lexer": "ipython3",
   "version": "3.5.2"
  }
 },
 "nbformat": 4,
 "nbformat_minor": 1
}
