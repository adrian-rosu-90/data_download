{
 "cells": [
  {
   "cell_type": "markdown",
   "metadata": {},
   "source": [
    "## Download script for OMI data\n",
    "\n",
    "Example of how to download monthly summaries of asc.gz files from temis.nl server"
   ]
  },
  {
   "cell_type": "code",
   "execution_count": null,
   "metadata": {
    "collapsed": false
   },
   "outputs": [],
   "source": [
    "import os\n",
    "from glob import glob\n",
    "import wget\n",
    "import pandas as pd\n",
    "import requests\n",
    "from tqdm import *"
   ]
  },
  {
   "cell_type": "code",
   "execution_count": null,
   "metadata": {
    "collapsed": false
   },
   "outputs": [],
   "source": [
    "def make_url(year, month, kind):\n",
    "    \"\"\"Create url from a year and month string as a download link\"\"\"\n",
    "    base = \"http://temis.nl/airpollution/no2col/data/omi/data_v2/\"\n",
    "    file_start = \"no2_\"\n",
    "    return ''.join([base, year,'/', month, '/',\n",
    "                    file_start, year, month, kind])\n",
    "\n",
    "def make_target(year, month, kind):\n",
    "    \"\"\"Make a target folder/filename string from a year month string\"\"\"\n",
    "    return ''.join([\"Data/\", year, month, kind])\n",
    "\n",
    "def download_file(year, month, kind):\n",
    "    \"\"\"\n",
    "    Download a file. Must specify:\n",
    "    year = string of YYYY\n",
    "    month = string of MM (must be two digit, e.g. '01')\n",
    "    kind = string of file extension type (e.g. '.asc.gz' or '.grd.gz')\n",
    "    \n",
    "    e.g.\n",
    "    >>>download_file('2016','01','.asc.gz')\n",
    "    \"\"\"\n",
    "    if not os.path.isdir(\"Data\"):\n",
    "        os.makedirs(\"Data\")\n",
    "    url = make_url(year, month, kind)\n",
    "    target = make_target(year, month, kind)\n",
    "    try:\n",
    "        wget.download(url, out=target)\n",
    "    except:\n",
    "        raise IOError(\"File not found\")"
   ]
  },
  {
   "cell_type": "code",
   "execution_count": null,
   "metadata": {
    "collapsed": false
   },
   "outputs": [],
   "source": [
    "# Example of downloading a single year/month file\n",
    "download_file('2016', '05', kind='.grd.gz')"
   ]
  },
  {
   "cell_type": "markdown",
   "metadata": {},
   "source": [
    "If there is no Data/ folder in the local folder, one will be made\n",
    "if the [year][month].asc.gz file doesnt exist on the server \n",
    "no download will be attempted, and instead an Eror will be raised.\n",
    "(This is so you can use a try: except: syntax to run a loop.)\n",
    "\n",
    "### Download multiple files\n",
    "\n",
    "To download multiple files you will need to iterate over a range of date-time objects.\n",
    "Each element of the list can then be used to get a month / year pair, used as inputs to the downloader."
   ]
  },
  {
   "cell_type": "code",
   "execution_count": null,
   "metadata": {
    "collapsed": false
   },
   "outputs": [],
   "source": [
    "def download_batch(start, end, kind):\n",
    "    \"\"\"\n",
    "    Provide a start and and end date.\n",
    "    A local Data folder will be created if none exists.\n",
    "    All files present in temis.nl/airpollution/no2col/data/omi/data_v2/\n",
    "    will be downloaded there. \n",
    "    (Even though dates are given to days, the time steps are monthly.)\n",
    "    \n",
    "    start = date string 'YYYYMMDD'\n",
    "    end =  date string 'YYYYMMDD'\n",
    "    kind = file type: '.asc.gz' or '.grd.gz'\n",
    "    \n",
    "    e.g. \n",
    "    >>> download_batch(start='20041001', end='20161001')\n",
    "    \"\"\"\n",
    "    dates = pd.date_range(start=start, end=end,freq='M')\n",
    "    missing = []\n",
    "    for date in tqdm(dates):\n",
    "        month = \"{0:02d}\".format(date.month)\n",
    "        year = str(date.year)\n",
    "        try:\n",
    "            download_file(year, month, kind)\n",
    "        except:\n",
    "            missing.append((year, month))\n",
    "    if len(missing):     # print info on missing files, if any exist\n",
    "        for pair in missing:\n",
    "            print(\"{0}: No corresponding file found\".format(pair))\n",
    "    # Clean up any partial files\n",
    "    for badfile in glob('Data/*.tmp'):\n",
    "        os.remove(badfile)\n",
    "    # Clean up any duplicated files\n",
    "    for duplicate in glob('Data/*(?)*'):\n",
    "        print(os.remove(duplicate))"
   ]
  },
  {
   "cell_type": "code",
   "execution_count": null,
   "metadata": {
    "collapsed": false
   },
   "outputs": [],
   "source": [
    "download_batch(start='20160101', end='20161001', kind='.grd.gz')"
   ]
  }
 ],
 "metadata": {
  "anaconda-cloud": {},
  "kernelspec": {
   "display_name": "Python [conda root]",
   "language": "python",
   "name": "conda-root-py"
  },
  "language_info": {
   "codemirror_mode": {
    "name": "ipython",
    "version": 3
   },
   "file_extension": ".py",
   "mimetype": "text/x-python",
   "name": "python",
   "nbconvert_exporter": "python",
   "pygments_lexer": "ipython3",
   "version": "3.5.2"
  }
 },
 "nbformat": 4,
 "nbformat_minor": 1
}
