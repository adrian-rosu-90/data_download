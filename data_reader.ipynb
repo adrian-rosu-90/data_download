{
 "cells": [
  {
   "cell_type": "markdown",
   "metadata": {},
   "source": [
    "# Parse OMI downloaded data\n",
    "\n",
    "The data is kind of old fashioned in its formatting. It has to be read in raw, line by line, and information extracted as characters at specific 4-width integers packed in rows of 20. Watch out for lines which seperate the latitude bands, these are diffrent. Go line by line and turn into an array."
   ]
  },
  {
   "cell_type": "code",
   "execution_count": null,
   "metadata": {
    "collapsed": false
   },
   "outputs": [],
   "source": [
    "import numpy as np\n",
    "import matplotlib.pyplot as plt\n",
    "from matplotlib import cm\n",
    "%matplotlib inline"
   ]
  },
  {
   "cell_type": "code",
   "execution_count": null,
   "metadata": {
    "collapsed": false
   },
   "outputs": [],
   "source": [
    "def grid_raw(data_file):\n",
    "    \"\"\"\n",
    "    Convert raw ASC format data into a gridded dataset.\n",
    "    Return header info, lat_info, and a grid\n",
    "    \n",
    "    e.g.:\n",
    "    >>> output = grid_raw('Data/201605.asc')\n",
    "    output\n",
    "    \"\"\"\n",
    "    raw = []\n",
    "    with open(data_file) as fp:\n",
    "        for line in fp:\n",
    "            raw.append(line)\n",
    "    header = raw[0:5]\n",
    "    raw = raw[5:]\n",
    "    bad =[]\n",
    "    globe = []\n",
    "    lat_band = []\n",
    "    lat_atts=[]\n",
    "    for line in raw:\n",
    "        tmp = line.split('\\n')[0]\n",
    "        if 'lat' in tmp:\n",
    "            lat_atts.append(tmp)\n",
    "            globe.append(lat_band)\n",
    "            lat_band = []\n",
    "        else:\n",
    "            for pos in range(20):\n",
    "                    start = pos * 4\n",
    "                    end = pos*4 + 4\n",
    "                    try:\n",
    "                        single_pixel = int(tmp[start: end])\n",
    "                        if single_pixel == -999:\n",
    "                            lat_band.append(np.nan)\n",
    "                        else:\n",
    "                            lat_band.append(single_pixel)\n",
    "                    except:\n",
    "                        bad.append(tmp[start: end])\n",
    "    assert len(bad) == 0, \"bad value list should be empty. Something went wrong...\"\n",
    "    globe = np.array(globe)\n",
    "    return (header, lat_atts, globe)"
   ]
  },
  {
   "cell_type": "code",
   "execution_count": null,
   "metadata": {
    "collapsed": false
   },
   "outputs": [],
   "source": [
    "# Example of plotting the data\n",
    "\n",
    "output = grid_raw('Data/201605.asc')"
   ]
  },
  {
   "cell_type": "code",
   "execution_count": null,
   "metadata": {
    "collapsed": false
   },
   "outputs": [],
   "source": [
    "# show header\n",
    "output[0]"
   ]
  },
  {
   "cell_type": "code",
   "execution_count": null,
   "metadata": {
    "collapsed": false
   },
   "outputs": [],
   "source": [
    "# show an example piece from lats...\n",
    "for info in output[1][0:5]:\n",
    "    print(info)"
   ]
  },
  {
   "cell_type": "code",
   "execution_count": null,
   "metadata": {
    "collapsed": false
   },
   "outputs": [],
   "source": [
    "# Show an example of plotting the array (stored in the output tuple position 2)\n",
    "plt.imshow(output[2], origin=1, interpolation=None, cmap=cm.jet)"
   ]
  },
  {
   "cell_type": "code",
   "execution_count": null,
   "metadata": {
    "collapsed": true
   },
   "outputs": [],
   "source": []
  }
 ],
 "metadata": {
  "anaconda-cloud": {},
  "kernelspec": {
   "display_name": "Python [default]",
   "language": "python",
   "name": "python3"
  },
  "language_info": {
   "codemirror_mode": {
    "name": "ipython",
    "version": 3
   },
   "file_extension": ".py",
   "mimetype": "text/x-python",
   "name": "python",
   "nbconvert_exporter": "python",
   "pygments_lexer": "ipython3",
   "version": "3.5.2"
  }
 },
 "nbformat": 4,
 "nbformat_minor": 1
}
